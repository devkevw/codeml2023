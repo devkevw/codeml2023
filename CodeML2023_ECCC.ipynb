{
 "cells": [
  {
   "cell_type": "code",
   "execution_count": 1,
   "id": "8bbb395d",
   "metadata": {},
   "outputs": [],
   "source": [
    "# Import necessary packages and modules\n",
    "import pandas as pd\n",
    "from sklearn.tree import DecisionTreeClassifier\n",
    "from sklearn.model_selection import train_test_split\n",
    "from sklearn.metrics import accuracy_score"
   ]
  },
  {
   "cell_type": "code",
   "execution_count": 2,
   "id": "9289f7c9",
   "metadata": {},
   "outputs": [
    {
     "name": "stderr",
     "output_type": "stream",
     "text": [
      "/var/folders/7f/0g18sbf15hl1_1g6wq0hy5rr0000gn/T/ipykernel_86883/4206194754.py:2: DtypeWarning: Columns (1270,1271,1272) have mixed types. Specify dtype option on import or set low_memory=False.\n",
      "  df = pd.read_csv('data_participant.csv')\n"
     ]
    }
   ],
   "source": [
    "# Gather data\n",
    "df = pd.read_csv('data_participant.csv')"
   ]
  },
  {
   "cell_type": "code",
   "execution_count": 3,
   "id": "d97cddb5",
   "metadata": {},
   "outputs": [],
   "source": [
    "# Split data into two (one with missing y values and one without)\n",
    "missing_y = df['y_thunderstorm'].isna() & df['y_hail'].isna() & df['y_severe'].isna()\n",
    "df_predict = df[missing_y]\n",
    "df_remaining = df[~missing_y]"
   ]
  },
  {
   "cell_type": "code",
   "execution_count": 4,
   "id": "adf36c18",
   "metadata": {},
   "outputs": [],
   "source": [
    "# Split df_remaining into data frames that are/are not missing hail_size values\n",
    "missing_hail_size = df_remaining['hail_size'].isna()\n",
    "df_wo_hail_size = df_remaining[missing_hail_size]\n",
    "df_cleaned = df_remaining[~missing_hail_size]"
   ]
  },
  {
   "cell_type": "code",
   "execution_count": 5,
   "id": "a21068a1",
   "metadata": {
    "scrolled": true
   },
   "outputs": [],
   "source": [
    "# Isolate outputs with values\n",
    "y1 = df_cleaned['y_thunderstorm']\n",
    "y2 = df_cleaned['y_hail']\n",
    "y3 = df_cleaned['y_severe']"
   ]
  },
  {
   "cell_type": "code",
   "execution_count": 6,
   "id": "9279e82a",
   "metadata": {
    "scrolled": true
   },
   "outputs": [
    {
     "data": {
      "text/html": [
       "<style>#sk-container-id-1 {color: black;}#sk-container-id-1 pre{padding: 0;}#sk-container-id-1 div.sk-toggleable {background-color: white;}#sk-container-id-1 label.sk-toggleable__label {cursor: pointer;display: block;width: 100%;margin-bottom: 0;padding: 0.3em;box-sizing: border-box;text-align: center;}#sk-container-id-1 label.sk-toggleable__label-arrow:before {content: \"▸\";float: left;margin-right: 0.25em;color: #696969;}#sk-container-id-1 label.sk-toggleable__label-arrow:hover:before {color: black;}#sk-container-id-1 div.sk-estimator:hover label.sk-toggleable__label-arrow:before {color: black;}#sk-container-id-1 div.sk-toggleable__content {max-height: 0;max-width: 0;overflow: hidden;text-align: left;background-color: #f0f8ff;}#sk-container-id-1 div.sk-toggleable__content pre {margin: 0.2em;color: black;border-radius: 0.25em;background-color: #f0f8ff;}#sk-container-id-1 input.sk-toggleable__control:checked~div.sk-toggleable__content {max-height: 200px;max-width: 100%;overflow: auto;}#sk-container-id-1 input.sk-toggleable__control:checked~label.sk-toggleable__label-arrow:before {content: \"▾\";}#sk-container-id-1 div.sk-estimator input.sk-toggleable__control:checked~label.sk-toggleable__label {background-color: #d4ebff;}#sk-container-id-1 div.sk-label input.sk-toggleable__control:checked~label.sk-toggleable__label {background-color: #d4ebff;}#sk-container-id-1 input.sk-hidden--visually {border: 0;clip: rect(1px 1px 1px 1px);clip: rect(1px, 1px, 1px, 1px);height: 1px;margin: -1px;overflow: hidden;padding: 0;position: absolute;width: 1px;}#sk-container-id-1 div.sk-estimator {font-family: monospace;background-color: #f0f8ff;border: 1px dotted black;border-radius: 0.25em;box-sizing: border-box;margin-bottom: 0.5em;}#sk-container-id-1 div.sk-estimator:hover {background-color: #d4ebff;}#sk-container-id-1 div.sk-parallel-item::after {content: \"\";width: 100%;border-bottom: 1px solid gray;flex-grow: 1;}#sk-container-id-1 div.sk-label:hover label.sk-toggleable__label {background-color: #d4ebff;}#sk-container-id-1 div.sk-serial::before {content: \"\";position: absolute;border-left: 1px solid gray;box-sizing: border-box;top: 0;bottom: 0;left: 50%;z-index: 0;}#sk-container-id-1 div.sk-serial {display: flex;flex-direction: column;align-items: center;background-color: white;padding-right: 0.2em;padding-left: 0.2em;position: relative;}#sk-container-id-1 div.sk-item {position: relative;z-index: 1;}#sk-container-id-1 div.sk-parallel {display: flex;align-items: stretch;justify-content: center;background-color: white;position: relative;}#sk-container-id-1 div.sk-item::before, #sk-container-id-1 div.sk-parallel-item::before {content: \"\";position: absolute;border-left: 1px solid gray;box-sizing: border-box;top: 0;bottom: 0;left: 50%;z-index: -1;}#sk-container-id-1 div.sk-parallel-item {display: flex;flex-direction: column;z-index: 1;position: relative;background-color: white;}#sk-container-id-1 div.sk-parallel-item:first-child::after {align-self: flex-end;width: 50%;}#sk-container-id-1 div.sk-parallel-item:last-child::after {align-self: flex-start;width: 50%;}#sk-container-id-1 div.sk-parallel-item:only-child::after {width: 0;}#sk-container-id-1 div.sk-dashed-wrapped {border: 1px dashed gray;margin: 0 0.4em 0.5em 0.4em;box-sizing: border-box;padding-bottom: 0.4em;background-color: white;}#sk-container-id-1 div.sk-label label {font-family: monospace;font-weight: bold;display: inline-block;line-height: 1.2em;}#sk-container-id-1 div.sk-label-container {text-align: center;}#sk-container-id-1 div.sk-container {/* jupyter's `normalize.less` sets `[hidden] { display: none; }` but bootstrap.min.css set `[hidden] { display: none !important; }` so we also need the `!important` here to be able to override the default hidden behavior on the sphinx rendered scikit-learn.org. See: https://github.com/scikit-learn/scikit-learn/issues/21755 */display: inline-block !important;position: relative;}#sk-container-id-1 div.sk-text-repr-fallback {display: none;}</style><div id=\"sk-container-id-1\" class=\"sk-top-container\"><div class=\"sk-text-repr-fallback\"><pre>DecisionTreeClassifier()</pre><b>In a Jupyter environment, please rerun this cell to show the HTML representation or trust the notebook. <br />On GitHub, the HTML representation is unable to render, please try loading this page with nbviewer.org.</b></div><div class=\"sk-container\" hidden><div class=\"sk-item\"><div class=\"sk-estimator sk-toggleable\"><input class=\"sk-toggleable__control sk-hidden--visually\" id=\"sk-estimator-id-1\" type=\"checkbox\" checked><label for=\"sk-estimator-id-1\" class=\"sk-toggleable__label sk-toggleable__label-arrow\">DecisionTreeClassifier</label><div class=\"sk-toggleable__content\"><pre>DecisionTreeClassifier()</pre></div></div></div></div></div>"
      ],
      "text/plain": [
       "DecisionTreeClassifier()"
      ]
     },
     "execution_count": 6,
     "metadata": {},
     "output_type": "execute_result"
    }
   ],
   "source": [
    "# Train models for y_thunderstorm, y_hail, y_severe\n",
    "model1 = DecisionTreeClassifier()\n",
    "X_train, X_test, y1_train, y1_test = train_test_split(df_cleaned.drop(columns=['ID', 'year', 'month', 'day', 'hour', 'start_time', 'latitude', 'longitude', 'event', 'y_thunderstorm', 'y_hail', 'y_severe']), y1.astype(int), test_size=0.2)\n",
    "model1.fit(X_train, y1_train)\n",
    "\n",
    "# predictions1 = model1.predict(X_test)\n",
    "# score1 = accuracy_score(y1_test, predictions1)\n",
    "# score1\n",
    "\n",
    "model2 = DecisionTreeClassifier()\n",
    "X_train, X_test, y2_train, y2_test = train_test_split(df_cleaned.drop(columns=['ID', 'year', 'month', 'day', 'hour', 'start_time', 'latitude', 'longitude', 'event', 'y_thunderstorm', 'y_hail', 'y_severe']), y2.astype(int), test_size=0.2)\n",
    "model2.fit(X_train, y2_train)\n",
    "\n",
    "# predictions2 = model2.predict(X_test)\n",
    "# score2 = accuracy_score(y2_test, predictions2)\n",
    "# score2\n",
    "\n",
    "model3 = DecisionTreeClassifier()\n",
    "X_train, X_test, y3_train, y3_test = train_test_split(df_cleaned.drop(columns=['ID', 'year', 'month', 'day', 'hour', 'start_time', 'latitude', 'longitude', 'event', 'y_thunderstorm', 'y_hail', 'y_severe']), y3.astype(int), test_size=0.2)\n",
    "model3.fit(X_train, y3_train)\n",
    "\n",
    "# predictions3 = model3.predict(X_test)\n",
    "# score3 = accuracy_score(y3_test, predictions3)\n",
    "# score3"
   ]
  },
  {
   "cell_type": "code",
   "execution_count": 7,
   "id": "50e09df2",
   "metadata": {},
   "outputs": [],
   "source": [
    "# Predict missing values of y_thunderstorm, y_hail, y_severe\n",
    "y1_predict = model1.predict(df_predict.drop(columns=['ID', 'year', 'month', 'day', 'hour', 'start_time', 'latitude', 'longitude', 'event', 'y_thunderstorm', 'y_hail', 'y_severe'])).astype(bool)\n",
    "y2_predict = model2.predict(df_predict.drop(columns=['ID', 'year', 'month', 'day', 'hour', 'start_time', 'latitude', 'longitude', 'event', 'y_thunderstorm', 'y_hail', 'y_severe'])).astype(bool)\n",
    "y3_predict = model3.predict(df_predict.drop(columns=['ID', 'year', 'month', 'day', 'hour', 'start_time', 'latitude', 'longitude', 'event', 'y_thunderstorm', 'y_hail', 'y_severe'])).astype(bool)"
   ]
  },
  {
   "cell_type": "code",
   "execution_count": 8,
   "id": "941ba6ba",
   "metadata": {
    "scrolled": true
   },
   "outputs": [],
   "source": [
    "# Replace missing y-values with predictions\n",
    "df_predict_new = df_predict.drop(columns=['y_thunderstorm', 'y_hail', 'y_severe'])\n",
    "df_predict_new['y_thunderstorm'] = y1_predict\n",
    "df_predict_new['y_hail'] = y2_predict\n",
    "df_predict_new['y_severe'] = y3_predict"
   ]
  },
  {
   "cell_type": "code",
   "execution_count": 9,
   "id": "9d354ae5",
   "metadata": {
    "scrolled": false
   },
   "outputs": [],
   "source": [
    "# Combine all sub data frames into complete final data frame\n",
    "df_final = pd.concat([df_predict_new, df_wo_hail_size, df_cleaned], ignore_index=True)"
   ]
  },
  {
   "cell_type": "code",
   "execution_count": 10,
   "id": "4914c5b0",
   "metadata": {},
   "outputs": [],
   "source": [
    "# Save .csv file\n",
    "df_final.to_csv('output.csv', index=False)"
   ]
  }
 ],
 "metadata": {
  "kernelspec": {
   "display_name": "Python 3 (ipykernel)",
   "language": "python",
   "name": "python3"
  },
  "language_info": {
   "codemirror_mode": {
    "name": "ipython",
    "version": 3
   },
   "file_extension": ".py",
   "mimetype": "text/x-python",
   "name": "python",
   "nbconvert_exporter": "python",
   "pygments_lexer": "ipython3",
   "version": "3.11.5"
  }
 },
 "nbformat": 4,
 "nbformat_minor": 5
}
